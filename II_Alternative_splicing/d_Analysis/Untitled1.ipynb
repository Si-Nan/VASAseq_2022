{
 "cells": [
  {
   "cell_type": "code",
   "execution_count": 1,
   "id": "velvet-garage",
   "metadata": {},
   "outputs": [],
   "source": [
    "import glob\n",
    "import itertools\n",
    "import csv\n",
    "import gzip"
   ]
  },
  {
   "cell_type": "code",
   "execution_count": 60,
   "id": "informal-arrow",
   "metadata": {},
   "outputs": [],
   "source": [
    "filenames = glob.glob(\"/lustre/scratch117/cellgen/team218/gp7/Joe/MicroExonator/Whippet/Quant/Collapsed/*.gene.tpm.tsv.gz\")"
   ]
  },
  {
   "cell_type": "code",
   "execution_count": 64,
   "id": "homeless-rugby",
   "metadata": {},
   "outputs": [
    {
     "name": "stdout",
     "output_type": "stream",
     "text": [
      "/lustre/scratch117/cellgen/team218/gp7/Joe/MicroExonator/Whippet/Quant/Collapsed/34.gene.tpm.tsv.gz\n",
      "/lustre/scratch117/cellgen/team218/gp7/Joe/MicroExonator/Whippet/Quant/Collapsed/33.gene.tpm.tsv.gz\n",
      "/lustre/scratch117/cellgen/team218/gp7/Joe/MicroExonator/Whippet/Quant/Collapsed/1.gene.tpm.tsv.gz\n",
      "/lustre/scratch117/cellgen/team218/gp7/Joe/MicroExonator/Whippet/Quant/Collapsed/21.gene.tpm.tsv.gz\n",
      "/lustre/scratch117/cellgen/team218/gp7/Joe/MicroExonator/Whippet/Quant/Collapsed/27.gene.tpm.tsv.gz\n",
      "/lustre/scratch117/cellgen/team218/gp7/Joe/MicroExonator/Whippet/Quant/Collapsed/17.gene.tpm.tsv.gz\n",
      "/lustre/scratch117/cellgen/team218/gp7/Joe/MicroExonator/Whippet/Quant/Collapsed/40.gene.tpm.tsv.gz\n",
      "/lustre/scratch117/cellgen/team218/gp7/Joe/MicroExonator/Whippet/Quant/Collapsed/9.gene.tpm.tsv.gz\n",
      "/lustre/scratch117/cellgen/team218/gp7/Joe/MicroExonator/Whippet/Quant/Collapsed/30.gene.tpm.tsv.gz\n",
      "/lustre/scratch117/cellgen/team218/gp7/Joe/MicroExonator/Whippet/Quant/Collapsed/19.gene.tpm.tsv.gz\n",
      "/lustre/scratch117/cellgen/team218/gp7/Joe/MicroExonator/Whippet/Quant/Collapsed/5.gene.tpm.tsv.gz\n",
      "/lustre/scratch117/cellgen/team218/gp7/Joe/MicroExonator/Whippet/Quant/Collapsed/23.gene.tpm.tsv.gz\n",
      "/lustre/scratch117/cellgen/team218/gp7/Joe/MicroExonator/Whippet/Quant/Collapsed/22.gene.tpm.tsv.gz\n",
      "/lustre/scratch117/cellgen/team218/gp7/Joe/MicroExonator/Whippet/Quant/Collapsed/35.gene.tpm.tsv.gz\n",
      "/lustre/scratch117/cellgen/team218/gp7/Joe/MicroExonator/Whippet/Quant/Collapsed/20.gene.tpm.tsv.gz\n",
      "/lustre/scratch117/cellgen/team218/gp7/Joe/MicroExonator/Whippet/Quant/Collapsed/16.gene.tpm.tsv.gz\n",
      "/lustre/scratch117/cellgen/team218/gp7/Joe/MicroExonator/Whippet/Quant/Collapsed/29.gene.tpm.tsv.gz\n",
      "/lustre/scratch117/cellgen/team218/gp7/Joe/MicroExonator/Whippet/Quant/Collapsed/28.gene.tpm.tsv.gz\n",
      "/lustre/scratch117/cellgen/team218/gp7/Joe/MicroExonator/Whippet/Quant/Collapsed/15.gene.tpm.tsv.gz\n",
      "/lustre/scratch117/cellgen/team218/gp7/Joe/MicroExonator/Whippet/Quant/Collapsed/38.gene.tpm.tsv.gz\n",
      "/lustre/scratch117/cellgen/team218/gp7/Joe/MicroExonator/Whippet/Quant/Collapsed/31.gene.tpm.tsv.gz\n",
      "/lustre/scratch117/cellgen/team218/gp7/Joe/MicroExonator/Whippet/Quant/Collapsed/13.gene.tpm.tsv.gz\n",
      "/lustre/scratch117/cellgen/team218/gp7/Joe/MicroExonator/Whippet/Quant/Collapsed/10.gene.tpm.tsv.gz\n",
      "/lustre/scratch117/cellgen/team218/gp7/Joe/MicroExonator/Whippet/Quant/Collapsed/36.gene.tpm.tsv.gz\n",
      "/lustre/scratch117/cellgen/team218/gp7/Joe/MicroExonator/Whippet/Quant/Collapsed/39.gene.tpm.tsv.gz\n",
      "/lustre/scratch117/cellgen/team218/gp7/Joe/MicroExonator/Whippet/Quant/Collapsed/7.gene.tpm.tsv.gz\n",
      "/lustre/scratch117/cellgen/team218/gp7/Joe/MicroExonator/Whippet/Quant/Collapsed/11.gene.tpm.tsv.gz\n",
      "/lustre/scratch117/cellgen/team218/gp7/Joe/MicroExonator/Whippet/Quant/Collapsed/18.gene.tpm.tsv.gz\n",
      "/lustre/scratch117/cellgen/team218/gp7/Joe/MicroExonator/Whippet/Quant/Collapsed/0.gene.tpm.tsv.gz\n",
      "/lustre/scratch117/cellgen/team218/gp7/Joe/MicroExonator/Whippet/Quant/Collapsed/14.gene.tpm.tsv.gz\n",
      "/lustre/scratch117/cellgen/team218/gp7/Joe/MicroExonator/Whippet/Quant/Collapsed/3.gene.tpm.tsv.gz\n",
      "/lustre/scratch117/cellgen/team218/gp7/Joe/MicroExonator/Whippet/Quant/Collapsed/2.gene.tpm.tsv.gz\n",
      "/lustre/scratch117/cellgen/team218/gp7/Joe/MicroExonator/Whippet/Quant/Collapsed/24.gene.tpm.tsv.gz\n",
      "/lustre/scratch117/cellgen/team218/gp7/Joe/MicroExonator/Whippet/Quant/Collapsed/37.gene.tpm.tsv.gz\n",
      "/lustre/scratch117/cellgen/team218/gp7/Joe/MicroExonator/Whippet/Quant/Collapsed/4.gene.tpm.tsv.gz\n",
      "/lustre/scratch117/cellgen/team218/gp7/Joe/MicroExonator/Whippet/Quant/Collapsed/26.gene.tpm.tsv.gz\n",
      "/lustre/scratch117/cellgen/team218/gp7/Joe/MicroExonator/Whippet/Quant/Collapsed/25.gene.tpm.tsv.gz\n",
      "/lustre/scratch117/cellgen/team218/gp7/Joe/MicroExonator/Whippet/Quant/Collapsed/41.gene.tpm.tsv.gz\n",
      "/lustre/scratch117/cellgen/team218/gp7/Joe/MicroExonator/Whippet/Quant/Collapsed/6.gene.tpm.tsv.gz\n",
      "/lustre/scratch117/cellgen/team218/gp7/Joe/MicroExonator/Whippet/Quant/Collapsed/8.gene.tpm.tsv.gz\n",
      "/lustre/scratch117/cellgen/team218/gp7/Joe/MicroExonator/Whippet/Quant/Collapsed/32.gene.tpm.tsv.gz\n",
      "/lustre/scratch117/cellgen/team218/gp7/Joe/MicroExonator/Whippet/Quant/Collapsed/12.gene.tpm.tsv.gz\n"
     ]
    }
   ],
   "source": [
    "fieldnames = [\"cell\", \"Gene\", \"TpM\"]\n",
    "\n",
    "\n",
    "\n",
    "with open('/home/jovyan/VASA/gene_TMP.3read_count.txt', 'w', newline='') as csvfile:    \n",
    "\n",
    "    writer = csv.DictWriter(csvfile, fieldnames=fieldnames, delimiter=\"\\t\")\n",
    "    writer.writeheader()\n",
    "\n",
    "    for i in filenames:\n",
    "        with gzip.open(i, \"rt\") as file:\n",
    "            \n",
    "            print(i)\n",
    "\n",
    "            reader = csv.DictReader(file, delimiter=\"\\t\")\n",
    "\n",
    "            for row in reader:\n",
    "                \n",
    "                outrow =dict()\n",
    "                outrow[\"cell\"] = row[\"Sample\"].split(\"/\")[-1]\n",
    "                outrow[\"Gene\"] = row[\"Gene\"]\n",
    "                outrow[\"TpM\"] = row[\"TpM\"]\n",
    "\n",
    "                try:\n",
    "                    Read_Counts = float(row[\"Read_Counts\"])\n",
    "\n",
    "                    if Read_Counts>=3:\n",
    "\n",
    "                        #writer.writerow({'cell': row['cell'], 'Gene': row['Gene'], 'TpM': row['TpM']})\n",
    "                        writer.writerow(outrow)\n",
    "\n",
    "                except ValueError:\n",
    "                    pass\n",
    "\n",
    "            \n",
    "            \n",
    "    "
   ]
  },
  {
   "cell_type": "code",
   "execution_count": null,
   "id": "micro-praise",
   "metadata": {},
   "outputs": [],
   "source": []
  }
 ],
 "metadata": {
  "kernelspec": {
   "display_name": "Python 3",
   "language": "python",
   "name": "python3"
  },
  "language_info": {
   "codemirror_mode": {
    "name": "ipython",
    "version": 3
   },
   "file_extension": ".py",
   "mimetype": "text/x-python",
   "name": "python",
   "nbconvert_exporter": "python",
   "pygments_lexer": "ipython3",
   "version": "3.8.8"
  }
 },
 "nbformat": 4,
 "nbformat_minor": 5
}
