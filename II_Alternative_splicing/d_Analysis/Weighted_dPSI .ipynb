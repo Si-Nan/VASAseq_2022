{
 "cells": [
  {
   "cell_type": "code",
   "execution_count": 3,
   "id": "practical-investigation",
   "metadata": {},
   "outputs": [],
   "source": [
    "import csv\n",
    "import glob\n",
    "from collections import defaultdict"
   ]
  },
  {
   "cell_type": "code",
   "execution_count": 4,
   "id": "polyphonic-aurora",
   "metadata": {},
   "outputs": [],
   "source": [
    "cluster_size =  defaultdict(int)\n",
    "\n",
    "with open('/lustre/scratch117/cellgen/team218/gp7/Joe/MicroExonator/umap_NoRegressedAnnotations.tsv') as cell_metadata:\n",
    "    \n",
    "    reader = csv.DictReader(cell_metadata, delimiter=\"\\t\")\n",
    "    \n",
    "    for row in reader:\n",
    "        cluster_size[row[\"leiden\"]] += 1"
   ]
  },
  {
   "cell_type": "code",
   "execution_count": 9,
   "id": "behavioral-violin",
   "metadata": {},
   "outputs": [],
   "source": [
    "cluster_comparison_weight = dict()\n",
    "compare_clusters = dict()\n",
    "cluster_total_weight = defaultdict(int)\n",
    "\n",
    "with open('/lustre/scratch117/cellgen/team218/gp7/Joe/MicroExonator/run_metadata.tsv') as run_metadata:\n",
    "    \n",
    "    reader = csv.DictReader(run_metadata, delimiter=\"\\t\")\n",
    "    \n",
    "    for row in reader:\n",
    "        \n",
    "        A_clusters = row[\"A.cluster_names\"].split(\",\")\n",
    "        B_clusters = row[\"B.cluster_names\"].split(\",\")\n",
    "        \n",
    "        total_cells_A = sum([ cluster_size[a] for a in A_clusters])\n",
    "        total_cells_B = sum([ cluster_size[b] for b in B_clusters])\n",
    "        \n",
    "        compare_clusters[row[\"Compare_ID\"]] = [A_clusters, B_clusters]\n",
    "        \n",
    "        for a in A_clusters:\n",
    "            cluster_comparison_weight[(row[\"Compare_ID\"], a)] = cluster_size[a]/( total_cells_A)\n",
    "            cluster_total_weight[a] += cluster_size[a]/(total_cells_A)\n",
    "            \n",
    "        for b in B_clusters:\n",
    "            cluster_comparison_weight[(row[\"Compare_ID\"], b)] = cluster_size[b]/( total_cells_B) \n",
    "            cluster_total_weight[b] += cluster_size[b]/( total_cells_B)"
   ]
  },
  {
   "cell_type": "code",
   "execution_count": 10,
   "id": "suspended-terrace",
   "metadata": {},
   "outputs": [
    {
     "data": {
      "text/plain": [
       "{('FirstHeart_vs_Primitive', '27'): 1.0,\n",
       " ('FirstHeart_vs_Primitive', '32'): 1.0,\n",
       " ('FistHeart_vs_SecondHeart', '27'): 1.0,\n",
       " ('FistHeart_vs_SecondHeart', '34'): 1.0,\n",
       " ('SecondHeart_vs_Miofibro', '34'): 1.0,\n",
       " ('SecondHeart_vs_Miofibro', '28'): 1.0,\n",
       " ('Blood_core', '23'): 1.0,\n",
       " ('Blood_core', '0'): 1.0,\n",
       " ('Blood_subdivition', '0'): 1.0,\n",
       " ('Blood_subdivition', '36'): 1.0,\n",
       " ('Blood_total', '0'): 0.9304908634897886,\n",
       " ('Blood_total', '36'): 0.0695091365102114,\n",
       " ('Blood_total', '23'): 1.0,\n",
       " ('Intermediate_mesoderm', '3'): 1.0,\n",
       " ('Intermediate_mesoderm', '35'): 1.0,\n",
       " ('Intermediate_mesoderm_primordium', '5'): 1.0,\n",
       " ('Intermediate_mesoderm_primordium', '35'): 1.0,\n",
       " ('Thophectoderm_Epiblast', '19'): 1.0,\n",
       " ('Thophectoderm_Epiblast', '29'): 1.0,\n",
       " ('Spinal_cord_progenitors_diff', '30'): 1.0,\n",
       " ('Spinal_cord_progenitors_diff', '13'): 1.0,\n",
       " ('Spinal_cord_diff', '6'): 1.0,\n",
       " ('Spinal_cord_diff', '13'): 1.0,\n",
       " ('Spinal_cord_brain', '30'): 0.15258855585831063,\n",
       " ('Spinal_cord_brain', '6'): 0.47513623978201636,\n",
       " ('Spinal_cord_brain', '13'): 0.37227520435967304,\n",
       " ('Spinal_cord_brain', '9'): 0.3377229080932785,\n",
       " ('Spinal_cord_brain', '10'): 0.33141289437585736,\n",
       " ('Spinal_cord_brain', '12'): 0.3308641975308642,\n",
       " ('Neural_crest_anterior', '14'): 1.0,\n",
       " ('Neural_crest_anterior', '21'): 1.0,\n",
       " ('SecondHeart_vs_Primitive', '34'): 1.0,\n",
       " ('SecondHeart_vs_Primitive', '32'): 1.0,\n",
       " ('Primitive_vs_Outflow', '32'): 1.0,\n",
       " ('Primitive_vs_Outflow', '33'): 1.0,\n",
       " ('Mesoderm_vs_Neuroectoderm', '3'): 0.41278467908902694,\n",
       " ('Mesoderm_vs_Neuroectoderm', '5'): 0.36335403726708076,\n",
       " ('Mesoderm_vs_Neuroectoderm', '35'): 0.05512422360248447,\n",
       " ('Mesoderm_vs_Neuroectoderm', '18'): 0.16873706004140787,\n",
       " ('Mesoderm_vs_Neuroectoderm', '12'): 0.3308641975308642,\n",
       " ('Mesoderm_vs_Neuroectoderm', '10'): 0.33141289437585736,\n",
       " ('Mesoderm_vs_Neuroectoderm', '9'): 0.3377229080932785,\n",
       " ('Mesoderm_vs_Endoderm', '3'): 0.41278467908902694,\n",
       " ('Mesoderm_vs_Endoderm', '5'): 0.36335403726708076,\n",
       " ('Mesoderm_vs_Endoderm', '35'): 0.05512422360248447,\n",
       " ('Mesoderm_vs_Endoderm', '18'): 0.16873706004140787,\n",
       " ('Mesoderm_vs_Endoderm', '25'): 1.0,\n",
       " ('Neuroectoderm_vs_Endoderm', '12'): 0.3308641975308642,\n",
       " ('Neuroectoderm_vs_Endoderm', '10'): 0.33141289437585736,\n",
       " ('Neuroectoderm_vs_Endoderm', '9'): 0.3377229080932785,\n",
       " ('Neuroectoderm_vs_Endoderm', '25'): 1.0,\n",
       " ('ReichertMembrane_vs_Trophectoderm', '37'): 1.0,\n",
       " ('ReichertMembrane_vs_Trophectoderm', '19'): 1.0,\n",
       " ('ReichertMembrane_vs_Epiblast', '37'): 1.0,\n",
       " ('ReichertMembrane_vs_Epiblast', '29'): 1.0,\n",
       " ('ReichertMembrane_vs_ViseralEndoderm', '37'): 1.0,\n",
       " ('ReichertMembrane_vs_ViseralEndoderm', '26'): 1.0,\n",
       " ('Trophectoderm_vs_Epiblast', '19'): 1.0,\n",
       " ('Trophectoderm_vs_Epiblast', '29'): 1.0,\n",
       " ('Epiblast_vs_ViseralEndoderm', '19'): 1.0,\n",
       " ('Epiblast_vs_ViseralEndoderm', '29'): 1.0}"
      ]
     },
     "execution_count": 10,
     "metadata": {},
     "output_type": "execute_result"
    }
   ],
   "source": [
    "cluster_comparison_weight"
   ]
  },
  {
   "cell_type": "code",
   "execution_count": 13,
   "id": "median-activity",
   "metadata": {},
   "outputs": [],
   "source": [
    "\n",
    "cluster_coord_dPSI = defaultdict(int)\n",
    "coord_info = dict()\n",
    "diff_coord_cluster = set([])\n",
    "\n",
    "for file in glob.glob('/lustre/scratch117/cellgen/team218/gp7/Joe/MicroExonator/Whippet/Delta/Single_Cell/Sig_nodes/*.txt'):\n",
    "    \n",
    "    compare_ID = file.split(\"/\")[-1].split(\".\")[0]\n",
    "    \n",
    "    with open(file) as res:\n",
    "        \n",
    "        reader = csv.DictReader(res, delimiter=\"\\t\")\n",
    "        \n",
    "        A_clusters, B_clusters = compare_clusters[compare_ID]\n",
    "        \n",
    "        total_cells_A = sum([ cluster_size[x] for x in A_clusters])\n",
    "        \n",
    "        for row in reader:\n",
    "            \n",
    "            coord_info[row['Coord']] = [row['Gene'], row['Node'], row['Strand'], row['Type']]\n",
    "            \n",
    "            for a in A_clusters:\n",
    "                w = cluster_comparison_weight[(compare_ID, a)]\n",
    "                cluster_coord_dPSI[(a, row['Coord'])] += (float(row['DeltaPsi.mean']) * w)/cluster_total_weight[a]\n",
    "                \n",
    "                if row['diff']==\"TRUE\":\n",
    "                    diff_coord_cluster.add((a, row['Coord']))\n",
    "\n",
    "            for b in B_clusters:\n",
    "                w = cluster_comparison_weight[(compare_ID, b)]\n",
    "                cluster_coord_dPSI[(b, row['Coord'])] += (-float(row['DeltaPsi.mean']) * w)/cluster_total_weight[b]\n",
    "                \n",
    "                if row['diff']==\"TRUE\":\n",
    "                    diff_coord_cluster.add((b, row['Coord']))\n",
    "    "
   ]
  },
  {
   "cell_type": "code",
   "execution_count": 14,
   "id": "employed-uncertainty",
   "metadata": {},
   "outputs": [],
   "source": [
    "\n",
    "with open(\"/lustre/scratch117/cellgen/team218/gp7/Joe/MicroExonator/Whippet/Delta/Single_Cell/Sig_nodes/cluster_sig_nodes.tsv\", \"w\") as out:\n",
    "    \n",
    "    out.write(\"\\t\".join([\"Cluster_ID\", \"Coord\", \"Gene\", \"Node\", \"Strand\", \"Type\", \"Weighted_mean_dPSI\"]) + \"\\n\" )\n",
    "\n",
    "    for key, Weighted_mean_dPSI in cluster_coord_dPSI.items():\n",
    "        \n",
    "        Cluster_ID, Coord = key\n",
    "        \n",
    "        if (Cluster_ID, Coord) in diff_coord_cluster:\n",
    "        \n",
    "            Gene, Node, Strand, Type = coord_info[Coord]\n",
    "\n",
    "            out.write(\"\\t\".join([Cluster_ID, Coord, Gene, Node, Strand, Type, str(Weighted_mean_dPSI)]) + \"\\n\" )\n",
    "        \n",
    "    \n",
    "    \n",
    "    \n",
    "    "
   ]
  },
  {
   "cell_type": "code",
   "execution_count": 1,
   "id": "vulnerable-cuisine",
   "metadata": {},
   "outputs": [
    {
     "data": {
      "text/plain": [
       "4"
      ]
     },
     "execution_count": 1,
     "metadata": {},
     "output_type": "execute_result"
    }
   ],
   "source": [
    "2+2"
   ]
  }
 ],
 "metadata": {
  "kernelspec": {
   "display_name": "Python 3",
   "language": "python",
   "name": "python3"
  },
  "language_info": {
   "codemirror_mode": {
    "name": "ipython",
    "version": 3
   },
   "file_extension": ".py",
   "mimetype": "text/x-python",
   "name": "python",
   "nbconvert_exporter": "python",
   "pygments_lexer": "ipython3",
   "version": "3.8.8"
  }
 },
 "nbformat": 4,
 "nbformat_minor": 5
}
